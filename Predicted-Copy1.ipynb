{
 "cells": [
  {
   "cell_type": "code",
   "execution_count": 17,
   "metadata": {},
   "outputs": [],
   "source": [
    "from sklearn.preprocessing import StandardScaler\n",
    "import pandas as pd \n",
    "import numpy as np \n",
    "import matplotlib.pyplot as plt\n",
    "import seaborn as sns \n",
    "import matplotlib.pyplot as plt\n",
    "%matplotlib inline"
   ]
  },
  {
   "cell_type": "code",
   "execution_count": 18,
   "metadata": {},
   "outputs": [],
   "source": [
    "df=pd.read_csv('data/Report20200901-20200930.csv', encoding='ISO-8859-1',parse_dates=['ï»¿\"Date\"'])\n",
    "df['ï»¿\"Date\"']=df['ï»¿\"Date\"'].dt.day_name()\n"
   ]
  },
  {
   "cell_type": "code",
   "execution_count": 19,
   "metadata": {},
   "outputs": [],
   "source": [
    "d1=df.groupby('ï»¿\"Date\"')"
   ]
  },
  {
   "cell_type": "code",
   "execution_count": 20,
   "metadata": {},
   "outputs": [],
   "source": [
    "date='2020-09-01'\n",
    "name='tetam'"
   ]
  },
  {
   "cell_type": "code",
   "execution_count": null,
   "metadata": {},
   "outputs": [],
   "source": []
  },
  {
   "cell_type": "code",
   "execution_count": 21,
   "metadata": {},
   "outputs": [
    {
     "data": {
      "text/plain": [
       "'Tuesday'"
      ]
     },
     "execution_count": 21,
     "metadata": {},
     "output_type": "execute_result"
    }
   ],
   "source": [
    "idx = pd.date_range(start=date, freq='D', periods=1)\n",
    "day_of_week=idx.day_name()[0]\n",
    "day_of_week"
   ]
  },
  {
   "cell_type": "code",
   "execution_count": 22,
   "metadata": {},
   "outputs": [],
   "source": [
    "lstGrps=[]\n",
    "for gp_name,gp in d1:    \n",
    "        lstGrps.append(d1.get_group(gp_name))\n",
    "        \n",
    "        \n",
    "p1 = pd.concat(lstGrps)\n",
    "ppd1=pd.DataFrame(p1)"
   ]
  },
  {
   "cell_type": "code",
   "execution_count": 23,
   "metadata": {},
   "outputs": [],
   "source": [
    "\n",
    "dfd2=ppd1.loc[ppd1['User ID (v14) (evar14)'] == name]"
   ]
  },
  {
   "cell_type": "code",
   "execution_count": 24,
   "metadata": {},
   "outputs": [],
   "source": [
    "Group=ppd1.groupby(['Function Local','Level Local','Deloitte Network Intranet (v51) (evar51)'])\n",
    "group2=Group['User ID (v14) (evar14)'] \n",
    "group3=Group['Header Area Clicked (v55) (evar55)']\n",
    "group4=Group['Header Item Clicked (v56) (evar56)']\n",
    "group5=Group['Search Result Clicked Subtype (v59) (evar59)']\n",
    "group6=Group['Search Result Clicked Title (v23) (evar23)']"
   ]
  },
  {
   "cell_type": "code",
   "execution_count": 25,
   "metadata": {},
   "outputs": [],
   "source": [
    "Output1=[]\n",
    "Output2=[]\n",
    "Output3=[]\n",
    "\n",
    "for i,j in group2:\n",
    "    Output1.append(list( dict.fromkeys(j.values)))\n",
    "    \n",
    "for i,j in group4:\n",
    "    Output2.append(j.values)\n",
    "    \n",
    "for i,j in group6:\n",
    "    Output3.append(j.values)\n"
   ]
  },
  {
   "cell_type": "code",
   "execution_count": 26,
   "metadata": {},
   "outputs": [],
   "source": [
    "indexes=[]\n",
    "for a in Output1:\n",
    "    if name in a:\n",
    "        indexes.append(a)\n"
   ]
  },
  {
   "cell_type": "code",
   "execution_count": 27,
   "metadata": {},
   "outputs": [],
   "source": [
    "pds=[]\n",
    "for i in range(len(indexes)):\n",
    "    pds.append(pd.DataFrame(Output1[Output1.index(indexes[i])]))"
   ]
  },
  {
   "cell_type": "code",
   "execution_count": 28,
   "metadata": {},
   "outputs": [],
   "source": [
    "vee = pd.concat(pds)"
   ]
  },
  {
   "cell_type": "code",
   "execution_count": 29,
   "metadata": {},
   "outputs": [],
   "source": [
    "vout=[]\n",
    "for i in range(len(indexes)):\n",
    "    vout.append(pd.DataFrame(Output2[Output1.index(indexes[i])],columns= ['Color']))\n",
    "    vout.append(pd.DataFrame(Output3[Output1.index(indexes[i])],columns= ['Color']))\n",
    "\n",
    "\n",
    "veeO=pd.concat(vout)\n",
    "dups_color = veeO.pivot_table(index=['Color'], aggfunc='size').sort_values(ascending=False)\n"
   ]
  },
  {
   "cell_type": "code",
   "execution_count": 30,
   "metadata": {},
   "outputs": [],
   "source": [
    "L=df.loc[df['User ID (v14) (evar14)'] == name]\n",
    "L1=pd.DataFrame(L[['Header Item Clicked (v56) (evar56)']],columns= ['Header Item Clicked (v56) (evar56)'])\n",
    "L2=pd.DataFrame(L[['Search Result Clicked Title (v23) (evar23)']],columns= ['Search Result Clicked Title (v23) (evar23)'])\n",
    "\n",
    "Li1=L1.rename(columns={\"Header Item Clicked (v56) (evar56)\": \"Color\"})\n",
    "Li2=L2.rename(columns={\"Search Result Clicked Title (v23) (evar23)\": \"Color\"})\n",
    "\n",
    "vee=pd.concat([Li1 ,Li2])\n",
    "dups_color2 = vee.pivot_table(index=['Color'], aggfunc='size').sort_values(ascending=False)"
   ]
  },
  {
   "cell_type": "code",
   "execution_count": 31,
   "metadata": {},
   "outputs": [],
   "source": [
    "d1=pd.DataFrame(dups_color,columns= ['Count'])\n",
    "d2=pd.DataFrame(dups_color2,columns= ['Count'])"
   ]
  },
  {
   "cell_type": "code",
   "execution_count": 32,
   "metadata": {},
   "outputs": [
    {
     "data": {
      "text/html": [
       "<div>\n",
       "<style scoped>\n",
       "    .dataframe tbody tr th:only-of-type {\n",
       "        vertical-align: middle;\n",
       "    }\n",
       "\n",
       "    .dataframe tbody tr th {\n",
       "        vertical-align: top;\n",
       "    }\n",
       "\n",
       "    .dataframe thead th {\n",
       "        text-align: right;\n",
       "    }\n",
       "</style>\n",
       "<table border=\"1\" class=\"dataframe\">\n",
       "  <thead>\n",
       "    <tr style=\"text-align: right;\">\n",
       "      <th></th>\n",
       "      <th>Count</th>\n",
       "    </tr>\n",
       "    <tr>\n",
       "      <th>Color</th>\n",
       "      <th></th>\n",
       "    </tr>\n",
       "  </thead>\n",
       "  <tbody>\n",
       "    <tr>\n",
       "      <th>SWIFT</th>\n",
       "      <td>1636</td>\n",
       "    </tr>\n",
       "    <tr>\n",
       "      <th>Tools</th>\n",
       "      <td>405</td>\n",
       "    </tr>\n",
       "    <tr>\n",
       "      <th>Jupiter</th>\n",
       "      <td>285</td>\n",
       "    </tr>\n",
       "    <tr>\n",
       "      <th>SAP</th>\n",
       "      <td>260</td>\n",
       "    </tr>\n",
       "    <tr>\n",
       "      <th>iRPM</th>\n",
       "      <td>225</td>\n",
       "    </tr>\n",
       "    <tr>\n",
       "      <th>DPN</th>\n",
       "      <td>178</td>\n",
       "    </tr>\n",
       "    <tr>\n",
       "      <th>Engage</th>\n",
       "      <td>171</td>\n",
       "    </tr>\n",
       "    <tr>\n",
       "      <th>TOP</th>\n",
       "      <td>157</td>\n",
       "    </tr>\n",
       "    <tr>\n",
       "      <th>Work</th>\n",
       "      <td>133</td>\n",
       "    </tr>\n",
       "    <tr>\n",
       "      <th>My Compliance Responsibilities</th>\n",
       "      <td>121</td>\n",
       "    </tr>\n",
       "    <tr>\n",
       "      <th>Jupiter (license required)</th>\n",
       "      <td>107</td>\n",
       "    </tr>\n",
       "    <tr>\n",
       "      <th>Conflict Checker</th>\n",
       "      <td>106</td>\n",
       "    </tr>\n",
       "    <tr>\n",
       "      <th>TOP (Take on Process)</th>\n",
       "      <td>99</td>\n",
       "    </tr>\n",
       "    <tr>\n",
       "      <th>DeloitteNet</th>\n",
       "      <td>96</td>\n",
       "    </tr>\n",
       "    <tr>\n",
       "      <th>Margin and pricing tool</th>\n",
       "      <td>84</td>\n",
       "    </tr>\n",
       "    <tr>\n",
       "      <th>Service desk</th>\n",
       "      <td>65</td>\n",
       "    </tr>\n",
       "    <tr>\n",
       "      <th>My compliance responsibilities</th>\n",
       "      <td>65</td>\n",
       "    </tr>\n",
       "    <tr>\n",
       "      <th>My Feedback</th>\n",
       "      <td>55</td>\n",
       "    </tr>\n",
       "    <tr>\n",
       "      <th>Technical Library</th>\n",
       "      <td>38</td>\n",
       "    </tr>\n",
       "    <tr>\n",
       "      <th>EMS (Workspace Booking System)</th>\n",
       "      <td>37</td>\n",
       "    </tr>\n",
       "  </tbody>\n",
       "</table>\n",
       "</div>"
      ],
      "text/plain": [
       "                                Count\n",
       "Color                                \n",
       "SWIFT                            1636\n",
       "Tools                             405\n",
       "Jupiter                           285\n",
       "SAP                               260\n",
       "iRPM                              225\n",
       "DPN                               178\n",
       "Engage                            171\n",
       "TOP                               157\n",
       "Work                              133\n",
       "My Compliance Responsibilities    121\n",
       "Jupiter (license required)        107\n",
       "Conflict Checker                  106\n",
       "TOP (Take on Process)              99\n",
       "DeloitteNet                        96\n",
       "Margin and pricing tool            84\n",
       "Service desk                       65\n",
       "My compliance responsibilities     65\n",
       "My Feedback                        55\n",
       "Technical Library                  38\n",
       "EMS (Workspace Booking System)     37"
      ]
     },
     "execution_count": 32,
     "metadata": {},
     "output_type": "execute_result"
    }
   ],
   "source": [
    "g1=pd.concat([d1,d2])\n",
    "g1.sort_values(by='Count',ascending=False).head(20)"
   ]
  }
 ],
 "metadata": {
  "kernelspec": {
   "display_name": "Python 3",
   "language": "python",
   "name": "python3"
  },
  "language_info": {
   "codemirror_mode": {
    "name": "ipython",
    "version": 3
   },
   "file_extension": ".py",
   "mimetype": "text/x-python",
   "name": "python",
   "nbconvert_exporter": "python",
   "pygments_lexer": "ipython3",
   "version": "3.8.3"
  }
 },
 "nbformat": 4,
 "nbformat_minor": 4
}
