{
 "cells": [
  {
   "cell_type": "code",
   "execution_count": 1,
   "metadata": {},
   "outputs": [],
   "source": [
    "from sklearn.preprocessing import StandardScaler\n",
    "from sklearn.cluster import KMeans\n",
    "import pandas as pd\n",
    "import numpy as np\n",
    "from itertools import cycle, islice\n",
    "import matplotlib.pyplot as plt\n",
    "from pandas.plotting import parallel_coordinates\n",
    "\n",
    "%matplotlib inline"
   ]
  },
  {
   "cell_type": "code",
   "execution_count": 2,
   "metadata": {},
   "outputs": [],
   "source": [
    "data = pd.read_csv('Report_user (3).csv',encoding='ISO-8859-1')"
   ]
  },
  {
   "cell_type": "code",
   "execution_count": 3,
   "metadata": {},
   "outputs": [
    {
     "data": {
      "text/plain": [
       "(2532437, 22)"
      ]
     },
     "execution_count": 3,
     "metadata": {},
     "output_type": "execute_result"
    }
   ],
   "source": [
    "data.shape"
   ]
  },
  {
   "cell_type": "code",
   "execution_count": 4,
   "metadata": {},
   "outputs": [
    {
     "name": "stdout",
     "output_type": "stream",
     "text": [
      "<class 'pandas.core.frame.DataFrame'>\n",
      "RangeIndex: 2532437 entries, 0 to 2532436\n",
      "Data columns (total 22 columns):\n",
      " #   Column                                        Dtype \n",
      "---  ------                                        ----- \n",
      " 0   ï»¿\"User ID (v14) (evar14)\"                   object\n",
      " 1   Tenure (yrs)                                  object\n",
      " 2   Subregion                                     object\n",
      " 3   Service Line                                  object\n",
      " 4   Service Area                                  object\n",
      " 5   Office                                        object\n",
      " 6   Member Firm                                   object\n",
      " 7   Level Local                                   object\n",
      " 8   Level                                         object\n",
      " 9   Function Local                                object\n",
      " 10  Function                                      object\n",
      " 11  Country                                       object\n",
      " 12  Header Area Clicked (v55) (evar55)            object\n",
      " 13  Header Item Clicked (v56) (evar56)            object\n",
      " 14  Search Result Clicked Detail (v60) (evar60)   object\n",
      " 15  Search Result Clicked Subtype (v59) (evar59)  object\n",
      " 16  Search Result Clicked Title (v23) (evar23)    object\n",
      " 17  Search Result Clicked Type (v58) (evar58)     object\n",
      " 18  Search Type (v25) (evar25)                    object\n",
      " 19  Search Terms (v26) (evar26)                   object\n",
      " 20  Capability                                    object\n",
      " 21  Breadcrumb (v9) (evar9)                       object\n",
      "dtypes: object(22)\n",
      "memory usage: 425.1+ MB\n"
     ]
    }
   ],
   "source": [
    "data.info()"
   ]
  },
  {
   "cell_type": "code",
   "execution_count": 5,
   "metadata": {},
   "outputs": [
    {
     "data": {
      "text/plain": [
       "ï»¿\"User ID (v14) (evar14)\"                           0\n",
       "Tenure (yrs)                                      27534\n",
       "Subregion                                         27534\n",
       "Service Line                                      27534\n",
       "Service Area                                      27534\n",
       "Office                                            27534\n",
       "Member Firm                                       27534\n",
       "Level Local                                       27534\n",
       "Level                                             27534\n",
       "Function Local                                    27534\n",
       "Function                                          27534\n",
       "Country                                           27534\n",
       "Header Area Clicked (v55) (evar55)              2226989\n",
       "Header Item Clicked (v56) (evar56)              2226989\n",
       "Search Result Clicked Detail (v60) (evar60)     1816608\n",
       "Search Result Clicked Subtype (v59) (evar59)    1816608\n",
       "Search Result Clicked Title (v23) (evar23)      1809755\n",
       "Search Result Clicked Type (v58) (evar58)       1809755\n",
       "Search Type (v25) (evar25)                      1543726\n",
       "Search Terms (v26) (evar26)                     1544143\n",
       "Capability                                        27534\n",
       "Breadcrumb (v9) (evar9)                         1459986\n",
       "dtype: int64"
      ]
     },
     "execution_count": 5,
     "metadata": {},
     "output_type": "execute_result"
    }
   ],
   "source": [
    "data.isnull().sum()"
   ]
  },
  {
   "cell_type": "code",
   "execution_count": 6,
   "metadata": {},
   "outputs": [],
   "source": [
    "X = data['Header Area Clicked (v55) (evar55)'].values.astype('U')  #Selecting the independent variable for classification\n",
    "#x = v.fit_transform(df['Review'].values.astype('U'))\n",
    "#Building a Hashing Vectorizer to convert the text to vectorized numbers via a sparse matrix\n",
    "from sklearn.feature_extraction.text import HashingVectorizer\n",
    "\n",
    "# hash vectorizer instance\n",
    "vectors = HashingVectorizer(lowercase=False, analyzer=lambda l:l, n_features=2**12)\n",
    "\n",
    "# features matrix X\n",
    "X = vectors.fit_transform(X)"
   ]
  },
  {
   "cell_type": "code",
   "execution_count": 7,
   "metadata": {},
   "outputs": [],
   "source": [
    "Y = data['Level'].values.astype('U')"
   ]
  },
  {
   "cell_type": "code",
   "execution_count": 8,
   "metadata": {},
   "outputs": [],
   "source": [
    "from sklearn.model_selection import train_test_split\n",
    "\n",
    "x_train, x_test, y_train, y_test = train_test_split(X,Y,test_size=0.25, random_state=4)"
   ]
  },
  {
   "cell_type": "code",
   "execution_count": 9,
   "metadata": {},
   "outputs": [],
   "source": [
    "from sklearn.ensemble import RandomForestClassifier\n",
    "\n",
    "rnd = RandomForestClassifier()\n",
    "rnd.fit(x_train,y_train)\n",
    "yhat = rnd.predict(x_test)"
   ]
  },
  {
   "cell_type": "code",
   "execution_count": 10,
   "metadata": {},
   "outputs": [
    {
     "data": {
      "text/plain": [
       "0.22011814692549478"
      ]
     },
     "execution_count": 10,
     "metadata": {},
     "output_type": "execute_result"
    }
   ],
   "source": [
    "from sklearn import metrics\n",
    "metrics.accuracy_score(y_test,yhat)"
   ]
  },
  {
   "cell_type": "code",
   "execution_count": null,
   "metadata": {},
   "outputs": [],
   "source": [
    "from sklearn import svm\n",
    "clf = svm.SVC(kernel='rbf', probability=True)\n",
    "clf.fit(x_train,y_train)\n",
    "\n",
    "yhat = clf.predict(x_test)"
   ]
  },
  {
   "cell_type": "code",
   "execution_count": null,
   "metadata": {},
   "outputs": [],
   "source": [
    "from sklearn import metrics\n",
    "metrics.accuracy_score(y_test,yhat)"
   ]
  },
  {
   "cell_type": "code",
   "execution_count": null,
   "metadata": {},
   "outputs": [],
   "source": [
    "from sklearn.neighbors import KNeighborsClassifier\n",
    "\n",
    "k = 9 #Initializing the value of K for classification\n",
    "\n",
    "neigh = KNeighborsClassifier(n_neighbors=k, metric='minkowski',p=2).fit(x_train,y_train)\n",
    "yhat = neigh.predict(x_test)"
   ]
  },
  {
   "cell_type": "code",
   "execution_count": null,
   "metadata": {},
   "outputs": [],
   "source": [
    "from sklearn import metrics\n",
    "metrics.accuracy_score(y_test,yhat)"
   ]
  },
  {
   "cell_type": "code",
   "execution_count": null,
   "metadata": {},
   "outputs": [],
   "source": [
    "from keras.models import Sequential\n",
    "from keras.layers import Dense,Dropout\n",
    "from keras.optimizers import SGD\n",
    "\n",
    "#Initiating the model\n",
    "model = Sequential()\n",
    "\n",
    "#Adding layers to the model\n",
    "model.add(Dense(2000, activation='sigmoid', input_shape=(4096,)))\n",
    "model.add(Dense(750, activation='sigmoid')) \n",
    "model.add(Dense(17, activation='softmax'))\n",
    "\n",
    "#Model Compilation and fitting the model\n",
    "model.compile(loss='sparse_categorical_crossentropy',optimizer='adam',metrics=['accuracy'])\n",
    "model.fit(x_train,y_train, batch_size=512, epochs=200, validation_data=(x_test,y_test))\n",
    "\n",
    "#Neural Network Evaluation\n",
    "score = model.evaluate(x_test, y_test, verbose=0)\n",
    "print(score[0])\n",
    "print(score[1])"
   ]
  },
  {
   "cell_type": "code",
   "execution_count": null,
   "metadata": {},
   "outputs": [],
   "source": []
  }
 ],
 "metadata": {
  "kernelspec": {
   "display_name": "Python 3",
   "language": "python",
   "name": "python3"
  },
  "language_info": {
   "codemirror_mode": {
    "name": "ipython",
    "version": 3
   },
   "file_extension": ".py",
   "mimetype": "text/x-python",
   "name": "python",
   "nbconvert_exporter": "python",
   "pygments_lexer": "ipython3",
   "version": "3.8.3"
  }
 },
 "nbformat": 4,
 "nbformat_minor": 4
}
