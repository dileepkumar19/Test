{
 "cells": [
  {
   "cell_type": "code",
   "execution_count": null,
   "metadata": {},
   "outputs": [],
   "source": [
    "import numpy as np\n",
    "import pandas as pd\n",
    "import seaborn as sns\n",
    "import matplotlib.pyplot as plt\n",
    "import matplotlib.ticker as ticker\n",
    "sns.set(color_codes=True)"
   ]
  },
  {
   "cell_type": "code",
   "execution_count": null,
   "metadata": {},
   "outputs": [],
   "source": [
    "analytics = pd.read_csv('InstantFind.csv',encoding='ISO-8859-1')\n",
    "analytics.head()"
   ]
  },
  {
   "cell_type": "code",
   "execution_count": null,
   "metadata": {},
   "outputs": [],
   "source": [
    "analytics.info()"
   ]
  },
  {
   "cell_type": "code",
   "execution_count": null,
   "metadata": {},
   "outputs": [],
   "source": [
    "plt.figure(figsize=(25,70))\n",
    "sns.set(font_scale=2) \n",
    "sns.set_style(\"darkgrid\")\n",
    "\n",
    "\n",
    "ax = sns.countplot(y=\"SearchResultClickedTitle\", data=analytics,order=analytics.SearchResultClickedTitle.value_counts())\n",
    "ax.xaxis.set_major_locator(ticker.MultipleLocator(50000))\n",
    "ax.xaxis.set_major_formatter(ticker.ScalarFormatter())\n",
    "\n",
    "total = len(analytics['SearchResultClickedTitle'])\n",
    "for p in ax.patches:\n",
    "        percentage = '{:.6f}%'.format(100 * p.get_width()/total)\n",
    "        x = p.get_x() + p.get_width() + 0.02\n",
    "        y = p.get_y() + p.get_height()/2\n",
    "        ax.annotate(percentage, (x, y))"
   ]
  },
  {
   "cell_type": "code",
   "execution_count": null,
   "metadata": {},
   "outputs": [],
   "source": [
    "analytics.tail()"
   ]
  },
  {
   "cell_type": "code",
   "execution_count": null,
   "metadata": {},
   "outputs": [],
   "source": [
    "utotal = len(analytics.SearchResultClickedTitle.unique())\n",
    "utotal"
   ]
  },
  {
   "cell_type": "code",
   "execution_count": null,
   "metadata": {},
   "outputs": [],
   "source": [
    "analytics['Date'] = pd.to_datetime(analytics['Date'], format='%d-%b-%y')\n",
    "analytics['day_of_week'] = analytics['Date'].dt.day_name()"
   ]
  },
  {
   "cell_type": "code",
   "execution_count": null,
   "metadata": {},
   "outputs": [],
   "source": [
    "analytics.head()"
   ]
  },
  {
   "cell_type": "code",
   "execution_count": null,
   "metadata": {},
   "outputs": [],
   "source": [
    "analytics.day_of_week.unique() "
   ]
  },
  {
   "cell_type": "code",
   "execution_count": null,
   "metadata": {},
   "outputs": [],
   "source": [
    "friday_data = analytics[analytics.day_of_week.eq('Friday')]\n",
    "friday_data"
   ]
  },
  {
   "cell_type": "code",
   "execution_count": null,
   "metadata": {},
   "outputs": [],
   "source": [
    "plt.figure(figsize=(25,70))\n",
    "sns.set(font_scale=2) \n",
    "sns.set_style(\"darkgrid\")\n",
    "\n",
    "\n",
    "ax = sns.countplot(y=\"SearchResultClickedTitle\", data=friday_data,order=friday_data.SearchResultClickedTitle.value_counts().iloc[:150].index)\n",
    "ax.xaxis.set_major_locator(ticker.MultipleLocator(50000))\n",
    "ax.xaxis.set_major_formatter(ticker.ScalarFormatter())"
   ]
  },
  {
   "cell_type": "code",
   "execution_count": null,
   "metadata": {},
   "outputs": [],
   "source": [
    "total = len(friday_data['SearchResultClickedTitle'])\n",
    "total.show()"
   ]
  },
  {
   "cell_type": "code",
   "execution_count": null,
   "metadata": {},
   "outputs": [],
   "source": [
    "monday_data = analytics[analytics.day_of_week.eq('Monday')]\n",
    "monday_data"
   ]
  },
  {
   "cell_type": "code",
   "execution_count": null,
   "metadata": {},
   "outputs": [],
   "source": [
    "plt.figure(figsize=(25,70))\n",
    "sns.set(font_scale=2) \n",
    "sns.set_style(\"darkgrid\")\n",
    "\n",
    "\n",
    "ax = sns.countplot(y=\"SearchResultClickedTitle\", data=monday_data,order=monday_data.SearchResultClickedTitle.value_counts().iloc[:150].index)\n",
    "ax.xaxis.set_major_locator(ticker.MultipleLocator(50000))\n",
    "ax.xaxis.set_major_formatter(ticker.ScalarFormatter())\n",
    "\n",
    "\n",
    "total = len(monday_data['SearchResultClickedTitle'])\n",
    "for p in ax.patches:\n",
    "        percentage = '{:.1f}%'.format(100 * p.get_width()/total)\n",
    "        x = p.get_x() + p.get_width() + 0.02\n",
    "        y = p.get_y() + p.get_height()/2\n",
    "        ax.annotate(percentage, (x, y))\n",
    "\n",
    "plt.show()"
   ]
  },
  {
   "cell_type": "code",
   "execution_count": null,
   "metadata": {},
   "outputs": [],
   "source": [
    "wed_data = analytics[analytics.day_of_week.eq('Wednesday')]\n",
    "wed_data\n",
    "\n",
    "plt.figure(figsize=(25,70))\n",
    "sns.set(font_scale=2) \n",
    "sns.set_style(\"darkgrid\")\n",
    "\n",
    "\n",
    "ax = sns.countplot(y=\"SearchResultClickedTitle\", data=wed_data,order=wed_data.SearchResultClickedTitle.value_counts().iloc[:150].index)\n",
    "ax.xaxis.set_major_locator(ticker.MultipleLocator(50000))\n",
    "ax.xaxis.set_major_formatter(ticker.ScalarFormatter())\n",
    "\n",
    "\n",
    "total = len(wed_data['SearchResultClickedTitle'])\n",
    "for p in ax.patches:\n",
    "        percentage = '{:.1f}%'.format(100 * p.get_width()/total)\n",
    "        x = p.get_x() + p.get_width() + 0.02\n",
    "        y = p.get_y() + p.get_height()/2\n",
    "        ax.annotate(percentage, (x, y))\n",
    "\n",
    "plt.show()"
   ]
  },
  {
   "cell_type": "code",
   "execution_count": null,
   "metadata": {},
   "outputs": [],
   "source": [
    "plt.figure(figsize=(25,70))\n",
    "sns.set(font_scale=2) \n",
    "sns.set_style(\"darkgrid\")\n",
    "\n",
    "\n",
    "sns.countplot(y=\"SearchResultClickedTitle\", data=analytics,order=analytics.SearchResultClickedTitle.value_counts().iloc[:10].index, hue='day_of_week')\n"
   ]
  },
  {
   "cell_type": "code",
   "execution_count": null,
   "metadata": {},
   "outputs": [],
   "source": []
  }
 ],
 "metadata": {
  "kernelspec": {
   "display_name": "Python 3",
   "language": "python",
   "name": "python3"
  },
  "language_info": {
   "codemirror_mode": {
    "name": "ipython",
    "version": 3
   },
   "file_extension": ".py",
   "mimetype": "text/x-python",
   "name": "python",
   "nbconvert_exporter": "python",
   "pygments_lexer": "ipython3",
   "version": "3.8.3"
  }
 },
 "nbformat": 4,
 "nbformat_minor": 4
}
