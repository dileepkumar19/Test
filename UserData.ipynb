{
 "cells": [
  {
   "cell_type": "code",
   "execution_count": 95,
   "metadata": {},
   "outputs": [],
   "source": [
    "from sklearn.preprocessing import StandardScaler\n",
    "import pandas as pd \n",
    "import numpy as np \n",
    "import matplotlib.pyplot as plt\n",
    "import seaborn as sns \n",
    "df1=pd.read_csv('Report_user (3).csv',encoding='ISO-8859-1')"
   ]
  },
  {
   "cell_type": "code",
   "execution_count": 96,
   "metadata": {},
   "outputs": [],
   "source": [
    "import plotly.express as px\n",
    "features = ['ï»¿\"User ID (v14) (evar14)\"', 'Search Result Clicked Title (v23) (evar23)', 'Header Item Clicked (v56) (evar56)']\n"
   ]
  },
  {
   "cell_type": "code",
   "execution_count": 176,
   "metadata": {},
   "outputs": [],
   "source": [
    "name='rperla'\n",
    "dfd=df1.loc[df1['ï»¿\"User ID (v14) (evar14)\"'] == name]\n",
    "dd=dfd[features]"
   ]
  },
  {
   "cell_type": "code",
   "execution_count": 156,
   "metadata": {},
   "outputs": [],
   "source": [
    "\n",
    "fgg1=pd.DataFrame(dfd[['Header Item Clicked (v56) (evar56)']],columns= ['Header Item Clicked (v56) (evar56)'])\n",
    "fgg2=pd.DataFrame(dfd[['Search Result Clicked Title (v23) (evar23)']],columns= ['Search Result Clicked Title (v23) (evar23)'])\n",
    "\n",
    "fgh1=fgg1.rename(columns={\"Header Item Clicked (v56) (evar56)\": \"col\"})\n",
    "fgh2=fgg2.rename(columns={\"Search Result Clicked Title (v23) (evar23)\": \"col\"})\n"
   ]
  },
  {
   "cell_type": "code",
   "execution_count": 157,
   "metadata": {},
   "outputs": [],
   "source": [
    "vee=pd.concat([fgh1 ,fgh2])"
   ]
  },
  {
   "cell_type": "code",
   "execution_count": 158,
   "metadata": {},
   "outputs": [
    {
     "data": {
      "text/html": [
       "<div>\n",
       "<style scoped>\n",
       "    .dataframe tbody tr th:only-of-type {\n",
       "        vertical-align: middle;\n",
       "    }\n",
       "\n",
       "    .dataframe tbody tr th {\n",
       "        vertical-align: top;\n",
       "    }\n",
       "\n",
       "    .dataframe thead th {\n",
       "        text-align: right;\n",
       "    }\n",
       "</style>\n",
       "<table border=\"1\" class=\"dataframe\">\n",
       "  <thead>\n",
       "    <tr style=\"text-align: right;\">\n",
       "      <th></th>\n",
       "      <th>col</th>\n",
       "    </tr>\n",
       "  </thead>\n",
       "  <tbody>\n",
       "    <tr>\n",
       "      <th>1991367</th>\n",
       "      <td>NaN</td>\n",
       "    </tr>\n",
       "    <tr>\n",
       "      <th>1991368</th>\n",
       "      <td>NaN</td>\n",
       "    </tr>\n",
       "    <tr>\n",
       "      <th>1991369</th>\n",
       "      <td>NaN</td>\n",
       "    </tr>\n",
       "    <tr>\n",
       "      <th>1991370</th>\n",
       "      <td>NaN</td>\n",
       "    </tr>\n",
       "    <tr>\n",
       "      <th>1991371</th>\n",
       "      <td>NaN</td>\n",
       "    </tr>\n",
       "    <tr>\n",
       "      <th>...</th>\n",
       "      <td>...</td>\n",
       "    </tr>\n",
       "    <tr>\n",
       "      <th>1991440</th>\n",
       "      <td>NaN</td>\n",
       "    </tr>\n",
       "    <tr>\n",
       "      <th>1991441</th>\n",
       "      <td>NaN</td>\n",
       "    </tr>\n",
       "    <tr>\n",
       "      <th>1991442</th>\n",
       "      <td>NaN</td>\n",
       "    </tr>\n",
       "    <tr>\n",
       "      <th>1991443</th>\n",
       "      <td>NaN</td>\n",
       "    </tr>\n",
       "    <tr>\n",
       "      <th>1991444</th>\n",
       "      <td>NaN</td>\n",
       "    </tr>\n",
       "  </tbody>\n",
       "</table>\n",
       "<p>156 rows × 1 columns</p>\n",
       "</div>"
      ],
      "text/plain": [
       "         col\n",
       "1991367  NaN\n",
       "1991368  NaN\n",
       "1991369  NaN\n",
       "1991370  NaN\n",
       "1991371  NaN\n",
       "...      ...\n",
       "1991440  NaN\n",
       "1991441  NaN\n",
       "1991442  NaN\n",
       "1991443  NaN\n",
       "1991444  NaN\n",
       "\n",
       "[156 rows x 1 columns]"
      ]
     },
     "execution_count": 158,
     "metadata": {},
     "output_type": "execute_result"
    }
   ],
   "source": [
    "vee"
   ]
  },
  {
   "cell_type": "code",
   "execution_count": 174,
   "metadata": {},
   "outputs": [],
   "source": [
    "dups_color2 = vee.pivot_table(index=['col'], aggfunc='size')"
   ]
  },
  {
   "cell_type": "code",
   "execution_count": 175,
   "metadata": {},
   "outputs": [
    {
     "data": {
      "text/plain": [
       "col\n",
       "Admin                                                     1\n",
       "Africa                                                    1\n",
       "Brazil                                                    1\n",
       "Caribbean & Bermuda                                       1\n",
       "Deloitte Connect                                          2\n",
       "Deloitte University                                       3\n",
       "DeloitteNet                                               1\n",
       "Global                                                    1\n",
       "My Compliance > Ethics & Compliance > Can I mobile app    1\n",
       "Nossa firma > Nossa firma > 175 anos de Deloitte          1\n",
       "Nossa firma > Nossa firma > Cultura CRER                  1\n",
       "Rate this App                                             1\n",
       "Ravi Ravi                                                 1\n",
       "Rosslyn                                                   3\n",
       "Self-Service Communications Site                          1\n",
       "ServiceNow Digital Self Service                           1\n",
       "Tools                                                     1\n",
       "Trips                                                     1\n",
       "Work                                                      1\n",
       "dtype: int64"
      ]
     },
     "execution_count": 175,
     "metadata": {},
     "output_type": "execute_result"
    }
   ],
   "source": [
    "dups_color2"
   ]
  },
  {
   "cell_type": "code",
   "execution_count": null,
   "metadata": {},
   "outputs": [],
   "source": []
  }
 ],
 "metadata": {
  "kernelspec": {
   "display_name": "Python 3",
   "language": "python",
   "name": "python3"
  },
  "language_info": {
   "codemirror_mode": {
    "name": "ipython",
    "version": 3
   },
   "file_extension": ".py",
   "mimetype": "text/x-python",
   "name": "python",
   "nbconvert_exporter": "python",
   "pygments_lexer": "ipython3",
   "version": "3.8.3"
  }
 },
 "nbformat": 4,
 "nbformat_minor": 4
}
